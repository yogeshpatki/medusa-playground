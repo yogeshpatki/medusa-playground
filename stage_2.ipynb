{
 "cells": [
  {
   "cell_type": "code",
   "execution_count": null,
   "id": "7a59ee34-bb49-464f-8745-f0fbe75e6ec4",
   "metadata": {},
   "outputs": [
    {
     "name": "stdout",
     "output_type": "stream",
     "text": [
      "Requirement already satisfied: pedalboard in e:\\medusa\\pedalboard\\notebooks\\.venv\\lib\\site-packages (0.9.6)\n",
      "Requirement already satisfied: numpy in e:\\medusa\\pedalboard\\notebooks\\.venv\\lib\\site-packages (from pedalboard) (2.0.0)\n",
      "Note: you may need to restart the kernel to use updated packages.\n",
      "Requirement already satisfied: numpy in e:\\medusa\\pedalboard\\notebooks\\.venv\\lib\\site-packages (2.0.0)\n",
      "Note: you may need to restart the kernel to use updated packages.\n"
     ]
    }
   ],
   "source": [
    "%pip install pedalboard"
   ]
  },
  {
   "cell_type": "code",
   "execution_count": 22,
   "id": "86c27785",
   "metadata": {},
   "outputs": [],
   "source": [
    "from pedalboard import load_plugin\n",
    "\n",
    "proc2_path = './plugins/FabFilter Pro-C 2.vst3'\n",
    "prog_path = './plugins/FabFilter Pro-G.vst3'\n",
    "\n",
    "def config_c2(numOfLevels, currentLevel, c2):\n",
    "  c2.knee = (72 / numOfLevels) * currentLevel\n",
    "  c2.range =  1\n",
    "  c2.auto_release = True\n",
    "  c2.release = 100\n",
    "  c2.attack = 33\n",
    "\n",
    "proC2 = load_plugin(proc2_path)"
   ]
  },
  {
   "cell_type": "code",
   "execution_count": 23,
   "id": "66f48483",
   "metadata": {},
   "outputs": [],
   "source": [
    "def config_prog(prog): \n",
    "  prog.threshold = -45\n",
    "  prog.attack = 0\n",
    "  prog.hold = 77\n",
    "  prog.knee = 8\n",
    "  prog.release = 1.0\n",
    "  prog.lookahead_enabled = True\n",
    "  prog.lookahead = 1\n",
    "  prog.left_side_chain_mix = -1\n",
    "  prog.right_side_chain_mix = 1\n",
    "  return prog\n",
    "\n",
    "  \n",
    "prog = config_prog(load_plugin(prog_path))"
   ]
  },
  {
   "cell_type": "code",
   "execution_count": 24,
   "id": "68b859c7",
   "metadata": {},
   "outputs": [],
   "source": [
    "import numpy as np\n",
    "\n",
    "def normalize(audio):\n",
    "    max_val = np.max(np.abs(audio))\n",
    "    if max_val > 0:\n",
    "        audio = audio / max_val\n",
    "    return audio\n",
    "\n",
    "def bounce(audios):\n",
    "  bounce = audios[0]\n",
    "  for i in range (1, len(audios)):\n",
    "    bounce = bounce + audios[i]\n",
    "  return normalize(bounce)"
   ]
  },
  {
   "cell_type": "code",
   "execution_count": 25,
   "id": "5ac42349",
   "metadata": {},
   "outputs": [],
   "source": [
    "depth_config = [\n",
    "  ['TALENTHOUSE-DSMN-LV-STEM.flac'],\n",
    "  ['TALENTHOUSE-DSMN-BV STEM.flac'],\n",
    "  ['TALENTHOUSE-DSMN-PIANO STEM.flac'], \n",
    "  ['TALENTHOUSE-DSMN-GTR STEM.flac'],\n",
    "  ['TALENTHOUSE-DSMN-KICK STEM.flac'],\n",
    "  ['TALENTHOUSE-DSMN-KIT STEM.flac'],\n",
    "  ['TALENTHOUSE-DSMN-PERC STEM.flac'], \n",
    "  ['TALENTHOUSE-DSMN-BASS STEM.flac'],\n",
    "  ['TALENTHOUSE-DSMN-SNARE STEM.flac'],\n",
    "  ['TALENTHOUSE-DSMN-LV-STEM.flac'],\n",
    "  # ['LEAD VOX - U48 - Neve 33102.wav'],\n",
    "  # ['UPRIGHT BASS - DI - Neve 33102.wav', 'UPRIGHT BASS - ELA M 260 - Neve 33102.wav'],\n",
    "  # ['TROMBONE A - AR-51 - Neve 33102.wav', 'TROMBONE B - AR-51 - Neve 33102.wav', 'TRUMPET A - AR-51 - Neve 33102.wav', 'TRUMPET B - AR-51 - Neve 33102.wav', 'SAX A - AK-47mkII - Neve 33102.wav', 'SAX B - AK-47mkII - Neve 33102.wav'],\n",
    "  # ['DRUM OVERHEAD STEREO L - AR-70 - Neve 33102.wav', 'DRUM OVERHEAD STEREO R - AR-70 - Neve 33102.wav', 'KICK - U48 - Neve 33102.wav'],\n",
    "  # ['E GUITAR - AR-51 - Presonus M80.wav', 'PIANO A - ELA M 260 - Neve 33102.wav', 'PIANO B - ELA M 260 - Neve 33102.wav'],\n",
    "  # ['ROOM A - Beyer Dynamic 160 - Neve 33102.wav', 'ROOM B - Beyer Dynamic 160 - Neve 33102.wav', 'ROOM C - AR-51 - Chandler Germanium.wav', 'ROOM D - AR-51 - Chandler Germanium.wav', 'ROOM STEREO L - C24 w TFUNK CK12 - Neve 33102.wav', 'ROOM STEREO R - C24 w TFUNK CK12 - Neve 33102.wav']\n",
    "]"
   ]
  },
  {
   "cell_type": "code",
   "execution_count": 26,
   "id": "7c8fe998",
   "metadata": {},
   "outputs": [],
   "source": [
    "from pedalboard.io import AudioFile\n",
    "from pedalboard import Pedalboard\n",
    "import numpy as np\n",
    "import os\n",
    "\n",
    "def mix_files(depth_config):\n",
    "    outputs = []\n",
    "    inputs = []\n",
    "    levels = len(depth_config)\n",
    "    max_samples = 0\n",
    "    samplerate = 44100\n",
    "    for i in range(0, levels):\n",
    "      songs_at_depth = depth_config[i]\n",
    "      for j in range(0, len(songs_at_depth)):\n",
    "        file_path = './uploads/' + songs_at_depth[j]\n",
    "        print('Processing ' + songs_at_depth[j])\n",
    "        f = AudioFile(file_path)\n",
    "        audio = f.read(f.frames)\n",
    "        samplerate = f.samplerate\n",
    "        max_samples = max(max_samples, audio.shape[1])\n",
    "        inputs.append(audio)\n",
    "        pc = proC2;\n",
    "        config_c2(len(depth_config), i, pc)\n",
    "        pg = prog;\n",
    "        board = Pedalboard([pg, pc])\n",
    "        outputs.append(board(audio, samplerate, reset=False))\n",
    "        print('Processed ' + songs_at_depth[j])\n",
    "    for i in range(len(inputs)):\n",
    "      shape = inputs[i].shape\n",
    "      if shape[1] < max_samples:\n",
    "        if (shape[0] == 1):\n",
    "          inputs[i] = np.pad(inputs[i], (0, max_samples - shape[1]), 'constant')\n",
    "          outputs[i] = np.pad(outputs[i], (0, max_samples - shape[1]), 'constant')\n",
    "        else:\n",
    "          inputs[i] = np.pad(inputs[i], ((0,0), (0, max_samples - shape[1])), 'constant')\n",
    "          outputs[i] = np.pad(outputs[i], ((0,0), (0, max_samples - shape[1])), 'constant')\n",
    "\n",
    "    # Normalize the mixed audio to prevent clipping\n",
    "    mixed_audio = bounce(outputs)\n",
    "    pre_mixed_audio = bounce(inputs)\n",
    "\n",
    "    # Save the output\n",
    "    output_file = 'mixdown/mixed_output.wav'\n",
    "    output_file2 = 'mixdown/pre_mixed_output.wav'\n",
    "    if not os.path.exists('mixdown'):\n",
    "      os.makedirs('mixdown')\n",
    "    with AudioFile(output_file, 'w', samplerate, outputs[0].shape[0]) as f:\n",
    "        f.write(mixed_audio)\n",
    "    with AudioFile(output_file2, 'w', samplerate, outputs[0].shape[0]) as f:\n",
    "        f.write(pre_mixed_audio)\n",
    "    return [output_file, output_file2]"
   ]
  },
  {
   "cell_type": "code",
   "execution_count": 27,
   "id": "8fbc6173",
   "metadata": {},
   "outputs": [
    {
     "name": "stdout",
     "output_type": "stream",
     "text": [
      "Processing TALENTHOUSE-DSMN-LV-STEM.flac\n",
      "Processed TALENTHOUSE-DSMN-LV-STEM.flac\n",
      "Processing TALENTHOUSE-DSMN-BV STEM.flac\n",
      "Processed TALENTHOUSE-DSMN-BV STEM.flac\n",
      "Processing TALENTHOUSE-DSMN-PIANO STEM.flac\n",
      "Processed TALENTHOUSE-DSMN-PIANO STEM.flac\n",
      "Processing TALENTHOUSE-DSMN-GTR STEM.flac\n",
      "Processed TALENTHOUSE-DSMN-GTR STEM.flac\n",
      "Processing TALENTHOUSE-DSMN-KICK STEM.flac\n",
      "Processed TALENTHOUSE-DSMN-KICK STEM.flac\n",
      "Processing TALENTHOUSE-DSMN-KIT STEM.flac\n",
      "Processed TALENTHOUSE-DSMN-KIT STEM.flac\n",
      "Processing TALENTHOUSE-DSMN-PERC STEM.flac\n",
      "Processed TALENTHOUSE-DSMN-PERC STEM.flac\n",
      "Processing TALENTHOUSE-DSMN-BASS STEM.flac\n",
      "Processed TALENTHOUSE-DSMN-BASS STEM.flac\n",
      "Processing TALENTHOUSE-DSMN-SNARE STEM.flac\n",
      "Processed TALENTHOUSE-DSMN-SNARE STEM.flac\n",
      "Processing TALENTHOUSE-DSMN-LV-STEM.flac\n",
      "Processed TALENTHOUSE-DSMN-LV-STEM.flac\n"
     ]
    },
    {
     "data": {
      "text/plain": [
       "['mixdown/mixed_output.wav', 'mixdown/pre_mixed_output.wav']"
      ]
     },
     "execution_count": 27,
     "metadata": {},
     "output_type": "execute_result"
    }
   ],
   "source": [
    "mix_files(depth_config)"
   ]
  }
 ],
 "metadata": {
  "kernelspec": {
   "display_name": ".venv",
   "language": "python",
   "name": "python3"
  },
  "language_info": {
   "codemirror_mode": {
    "name": "ipython",
    "version": 3
   },
   "file_extension": ".py",
   "mimetype": "text/x-python",
   "name": "python",
   "nbconvert_exporter": "python",
   "pygments_lexer": "ipython3",
   "version": "3.12.4"
  }
 },
 "nbformat": 4,
 "nbformat_minor": 5
}
