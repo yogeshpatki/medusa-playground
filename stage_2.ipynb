{
 "cells": [
  {
   "cell_type": "code",
   "execution_count": 2,
   "id": "7a59ee34-bb49-464f-8745-f0fbe75e6ec4",
   "metadata": {},
   "outputs": [
    {
     "name": "stdout",
     "output_type": "stream",
     "text": [
      "Requirement already satisfied: pedalboard in e:\\medusa\\webapps\\medusa-notebooks\\.venv\\lib\\site-packages (0.9.9)Note: you may need to restart the kernel to use updated packages.\n",
      "\n",
      "Requirement already satisfied: numpy in e:\\medusa\\webapps\\medusa-notebooks\\.venv\\lib\\site-packages (from pedalboard) (2.0.0)\n",
      "Requirement already satisfied: python-dotenv in e:\\medusa\\webapps\\medusa-notebooks\\.venv\\lib\\site-packages (1.0.1)Note: you may need to restart the kernel to use updated packages.\n",
      "The dotenv extension is already loaded. To reload it, use:\n",
      "  %reload_ext dotenv\n",
      "\n"
     ]
    }
   ],
   "source": [
    "%pip install pedalboard\n",
    "%pip install python-dotenv\n",
    "%load_ext dotenv\n",
    "%dotenv\n"
   ]
  },
  {
   "cell_type": "code",
   "execution_count": 3,
   "id": "5bdb5306",
   "metadata": {},
   "outputs": [],
   "source": [
    "from dotenv import dotenv_values\n",
    "config = dotenv_values(\".env\") "
   ]
  },
  {
   "cell_type": "code",
   "execution_count": 4,
   "id": "39ef109a",
   "metadata": {},
   "outputs": [],
   "source": [
    "pluginsDir = config['PLUGIN_HOME']\n",
    "tracksDir = config['TRACKS_HOME']\n",
    "mixDir = config['MIX_HOME']"
   ]
  },
  {
   "cell_type": "code",
   "execution_count": 5,
   "id": "86c27785",
   "metadata": {},
   "outputs": [],
   "source": [
    "from pedalboard import load_plugin\n",
    "\n",
    "proc2_path = pluginsDir + 'FabFilter Pro-C 2.vst3'\n",
    "prog_path = pluginsDir + 'FabFilter Pro-G.vst3'\n",
    "\n",
    "def config_c2(numOfLevels, currentLevel, c2):\n",
    "  c2.knee = (72 / numOfLevels) * currentLevel\n",
    "  c2.range =  1\n",
    "  c2.auto_release = True\n",
    "  c2.release = 100\n",
    "  c2.attack = 33\n",
    "\n",
    "proC2 = load_plugin(proc2_path)"
   ]
  },
  {
   "cell_type": "code",
   "execution_count": 6,
   "id": "66f48483",
   "metadata": {},
   "outputs": [],
   "source": [
    "def config_prog(prog): \n",
    "  prog.threshold = -45\n",
    "  prog.attack = 0\n",
    "  prog.hold = 77\n",
    "  prog.knee = 8\n",
    "  prog.release = 1.0\n",
    "  prog.lookahead_enabled = True\n",
    "  prog.lookahead = 1\n",
    "  prog.left_side_chain_mix = -1\n",
    "  prog.right_side_chain_mix = 1\n",
    "  return prog\n",
    "\n",
    "  \n",
    "prog = config_prog(load_plugin(prog_path))"
   ]
  },
  {
   "cell_type": "code",
   "execution_count": 7,
   "id": "68b859c7",
   "metadata": {},
   "outputs": [],
   "source": [
    "import numpy as np\n",
    "\n",
    "def normalize(audio):\n",
    "    max_val = np.max(np.abs(audio))\n",
    "    if max_val > 0:\n",
    "        normalized = audio / max_val\n",
    "    return normalized\n",
    "\n",
    "def normalize2(audio, n):\n",
    "    normalized = audio / n\n",
    "    return normalized\n",
    "\n",
    "def bounce(audios):\n",
    "  bounce = audios[0]\n",
    "  for i in range (1, len(audios)):\n",
    "    bounce = bounce + audios[i]\n",
    "  return [normalize(bounce), normalize(normalize2(bounce, len(audios)))]"
   ]
  },
  {
   "cell_type": "code",
   "execution_count": 8,
   "id": "5ac42349",
   "metadata": {},
   "outputs": [],
   "source": [
    "depth_config = [\n",
    "  ['LV-STEM.flac'],\n",
    "  ['BV STEM.flac'],\n",
    "  ['PIANO STEM.flac'], \n",
    "  ['GTR STEM.flac'],\n",
    "  ['KICK STEM.flac'],\n",
    "  ['KIT STEM.flac'],\n",
    "  ['PERC STEM.flac'], \n",
    "  ['BASS STEM.flac', 'SNARE STEM.flac', 'LV-STEM.flac'],\n",
    "]"
   ]
  },
  {
   "cell_type": "code",
   "execution_count": 9,
   "id": "7c8fe998",
   "metadata": {},
   "outputs": [],
   "source": [
    "from pedalboard.io import AudioFile\n",
    "from pedalboard import Pedalboard\n",
    "import numpy as np\n",
    "import os\n",
    "\n",
    "def mix_files(depth_config):\n",
    "  outputs = []\n",
    "  inputs = []\n",
    "  levels = len(depth_config)\n",
    "  max_samples = 0\n",
    "  samplerate = 44100\n",
    "  for i in range(0, levels):\n",
    "    print('processing depth ' + str(i+1))\n",
    "    songs_at_depth = depth_config[i]\n",
    "    for j in range(0, len(songs_at_depth)):\n",
    "      file_path = tracksDir + songs_at_depth[j]\n",
    "      print('Processing ' + songs_at_depth[j])\n",
    "      f = AudioFile(file_path)\n",
    "      audio = f.read(f.frames)\n",
    "      samplerate = f.samplerate\n",
    "      max_samples = max(max_samples, audio.shape[1])\n",
    "      inputs.append(audio)\n",
    "      \n",
    "      config_c2(levels, i, proC2)\n",
    "      print(' Samplerate is ' + str(samplerate))\n",
    "      board = Pedalboard([prog, proC2])\n",
    "      outputs.append(board(audio, samplerate, reset=False))\n",
    "      print('Processed ' + songs_at_depth[j])\n",
    "  print('adding songs');\n",
    "  for i in range(len(inputs)):\n",
    "    shape = inputs[i].shape\n",
    "    if shape[1] < max_samples:\n",
    "      if (shape[0] == 1):\n",
    "        inputs[i] = np.pad(inputs[i], (0, max_samples - shape[1]), 'constant')\n",
    "        outputs[i] = np.pad(outputs[i], (0, max_samples - shape[1]), 'constant')\n",
    "      else:\n",
    "        inputs[i] = np.pad(inputs[i], ((0,0), (0, max_samples - shape[1])), 'constant')\n",
    "        outputs[i] = np.pad(outputs[i], ((0,0), (0, max_samples - shape[1])), 'constant')\n",
    "  print('normalizing songs');\n",
    "  # Normalize the mixed audio to prevent clipping\n",
    "  mixed_audio = bounce(outputs)\n",
    "  pre_mixed_audio = bounce(inputs)\n",
    "\n",
    "  # Save the output\n",
    "  output_file = mixDir + 'mixed_output.wav'\n",
    "  output_file3 = mixDir + 'mixed_output2.wav'\n",
    "  output_file2 = mixDir + 'pre_mixed_output.wav'\n",
    "  output_file4 = mixDir + 'pre_mixed_output2.wav'\n",
    "\n",
    "  print('saving songs');\n",
    "  with AudioFile(output_file, 'w', samplerate, outputs[0].shape[0]) as f:\n",
    "      f.write(mixed_audio[0])\n",
    "  with AudioFile(output_file3, 'w', samplerate, outputs[0].shape[0]) as f:\n",
    "      f.write(mixed_audio[1])\n",
    "  with AudioFile(output_file2, 'w', samplerate, outputs[0].shape[0]) as f:\n",
    "      f.write(pre_mixed_audio[0])\n",
    "  with AudioFile(output_file4, 'w', samplerate, outputs[0].shape[0]) as f:\n",
    "      f.write(pre_mixed_audio[1])\n",
    "  print('done');\n",
    "  return [output_file, output_file2, output_file3, output_file4]"
   ]
  },
  {
   "cell_type": "code",
   "execution_count": 10,
   "id": "8fbc6173",
   "metadata": {},
   "outputs": [
    {
     "name": "stdout",
     "output_type": "stream",
     "text": [
      "processing depth 1\n",
      "Processing LV-STEM.flac\n",
      " Samplerate is 44100\n",
      "Processed LV-STEM.flac\n",
      "processing depth 2\n",
      "Processing BV STEM.flac\n",
      " Samplerate is 44100\n",
      "Processed BV STEM.flac\n",
      "processing depth 3\n",
      "Processing PIANO STEM.flac\n",
      " Samplerate is 44100\n",
      "Processed PIANO STEM.flac\n",
      "processing depth 4\n",
      "Processing GTR STEM.flac\n",
      " Samplerate is 44100\n",
      "Processed GTR STEM.flac\n",
      "processing depth 5\n",
      "Processing KICK STEM.flac\n",
      " Samplerate is 44100\n",
      "Processed KICK STEM.flac\n",
      "processing depth 6\n",
      "Processing KIT STEM.flac\n",
      " Samplerate is 44100\n",
      "Processed KIT STEM.flac\n",
      "processing depth 7\n",
      "Processing PERC STEM.flac\n",
      " Samplerate is 44100\n",
      "Processed PERC STEM.flac\n",
      "processing depth 8\n",
      "Processing BASS STEM.flac\n",
      " Samplerate is 44100\n",
      "Processed BASS STEM.flac\n",
      "Processing SNARE STEM.flac\n",
      " Samplerate is 44100\n",
      "Processed SNARE STEM.flac\n",
      "Processing LV-STEM.flac\n",
      " Samplerate is 44100\n",
      "Processed LV-STEM.flac\n",
      "adding songs\n",
      "normalizing songs\n",
      "saving songs\n",
      "done\n"
     ]
    },
    {
     "data": {
      "text/plain": [
       "['./.mixes/mixed_output.wav',\n",
       " './.mixes/pre_mixed_output.wav',\n",
       " './.mixes/mixed_output2.wav',\n",
       " './.mixes/pre_mixed_output2.wav']"
      ]
     },
     "execution_count": 10,
     "metadata": {},
     "output_type": "execute_result"
    }
   ],
   "source": [
    "mix_files(depth_config)"
   ]
  }
 ],
 "metadata": {
  "kernelspec": {
   "display_name": ".venv",
   "language": "python",
   "name": "python3"
  },
  "language_info": {
   "codemirror_mode": {
    "name": "ipython",
    "version": 3
   },
   "file_extension": ".py",
   "mimetype": "text/x-python",
   "name": "python",
   "nbconvert_exporter": "python",
   "pygments_lexer": "ipython3",
   "version": "3.12.4"
  }
 },
 "nbformat": 4,
 "nbformat_minor": 5
}
